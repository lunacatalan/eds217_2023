{
 "cells": [
  {
   "cell_type": "markdown",
   "metadata": {},
   "source": [
    "# Types of data structures"
   ]
  },
  {
   "cell_type": "markdown",
   "metadata": {},
   "source": [
    "## Collection types\n",
    "\n",
    "list()\n",
    "- a = [1, 2, 3]\n",
    "\n",
    "dict()\n",
    "- a = {'one':1, 'two':2}\n",
    "\n",
    "set()\n",
    "- a = {1, 2, 3}\n",
    "\n",
    "tuple()\n",
    "- a = (1, 2, 3)\n"
   ]
  },
  {
   "cell_type": "markdown",
   "metadata": {},
   "source": [
    "### Rules\n",
    "- all iterable\n",
    "- can alter 3 of the 4 (cannot alter tuple())\n",
    "- can only store list()\n",
    "- can use sorted() to any collection will produce a list "
   ]
  },
  {
   "cell_type": "code",
   "execution_count": 2,
   "metadata": {},
   "outputs": [
    {
     "name": "stdout",
     "output_type": "stream",
     "text": [
      "{'ecology': 'The relationships between organisms and their environments.', 'hydrology': 'The properties, distribution & effects of water on the surface, subsurface, & atmosphere.', 'geology': 'The origin, history, and structure of the earth.', 'meteorology': 'The phenomena of the atmosphere, especially weather and weather conditions.'}\n"
     ]
    }
   ],
   "source": [
    "environmental_disciplines = {\n",
    "    'ecology':'The relationships between organisms and their environments.',\n",
    "    'hydrology':'The properties, distribution & effects of water on the surface, subsurface, & atmosphere.',\n",
    "    'geology':'The origin, history, and structure of the earth.',\n",
    "    'meteorology':'The phenomena of the atmosphere, especially weather and weather conditions.'\n",
    "}\n",
    "\n",
    "print(environmental_disciplines) # not in a sorted order\n"
   ]
  },
  {
   "cell_type": "code",
   "execution_count": null,
   "metadata": {},
   "outputs": [],
   "source": [
    "# to access value, idntify dictionary['key']\n",
    "## need '' around the key because there is no defined value stored of the key\n",
    "print(environmental_disciplines['ecology'])"
   ]
  },
  {
   "cell_type": "code",
   "execution_count": null,
   "metadata": {},
   "outputs": [],
   "source": [
    "# add definition to selected definition\n",
    "environmental_disciplines['geomorphology'] = 'The evolution and configuration of landforms.'\n",
    "\n",
    "print(environmental_disciplines['geomorphology'])"
   ]
  },
  {
   "cell_type": "code",
   "execution_count": 3,
   "metadata": {},
   "outputs": [
    {
     "name": "stdout",
     "output_type": "stream",
     "text": [
      "dict_keys(['ecology', 'hydrology', 'geology', 'meteorology'])\n"
     ]
    }
   ],
   "source": [
    "# to access the keys\n",
    "disciplines = environmental_disciplines.keys()\n",
    "print(disciplines)"
   ]
  },
  {
   "cell_type": "code",
   "execution_count": 4,
   "metadata": {},
   "outputs": [
    {
     "name": "stdout",
     "output_type": "stream",
     "text": [
      "dict_values(['The relationships between organisms and their environments.', 'The properties, distribution & effects of water on the surface, subsurface, & atmosphere.', 'The origin, history, and structure of the earth.', 'The phenomena of the atmosphere, especially weather and weather conditions.'])\n"
     ]
    }
   ],
   "source": [
    "# to access the values\n",
    "definitions = environmental_disciplines.values()\n",
    "print(definitions)"
   ]
  },
  {
   "cell_type": "code",
   "execution_count": 6,
   "metadata": {},
   "outputs": [
    {
     "name": "stdout",
     "output_type": "stream",
     "text": [
      "ecology The relationships between organisms and their environments.\n",
      "hydrology The properties, distribution & effects of water on the surface, subsurface, & atmosphere.\n",
      "geology The origin, history, and structure of the earth.\n",
      "meteorology The phenomena of the atmosphere, especially weather and weather conditions.\n"
     ]
    }
   ],
   "source": [
    "# to access the items: output is the key and value\n",
    "for key, value in environmental_disciplines.items():\n",
    "    print(key, value)\n",
    "    #environmental_disciplines[key] = value.capitalize()"
   ]
  },
  {
   "cell_type": "markdown",
   "metadata": {},
   "source": [
    "## Looping through Dictionaries"
   ]
  },
  {
   "cell_type": "code",
   "execution_count": 7,
   "metadata": {},
   "outputs": [],
   "source": [
    "my_dict = {'name': 'Homer Simpson',\n",
    "           'occupation': 'Nuclear Engineer',\n",
    "           'address': '742 Evergreen Terrace',\n",
    "           'city': 'Springfield',\n",
    "           'state': ' ? '\n",
    "          }"
   ]
  },
  {
   "cell_type": "code",
   "execution_count": 8,
   "metadata": {},
   "outputs": [
    {
     "name": "stdout",
     "output_type": "stream",
     "text": [
      "Name: Homer Simpson.\n",
      "Occupation: Nuclear Engineer.\n",
      "Address: 742 Evergreen Terrace.\n",
      "City: Springfield.\n",
      "State:  ? .\n"
     ]
    }
   ],
   "source": [
    "for key,value in my_dict.items(): # iterate over all items (key and value)\n",
    "    print(f\"{key.capitalize()}: {value}.\") # print statement"
   ]
  },
  {
   "cell_type": "code",
   "execution_count": 11,
   "metadata": {},
   "outputs": [
    {
     "name": "stdout",
     "output_type": "stream",
     "text": [
      "Ecology is the study of the relationships between organisms and their environments.\n",
      "Hydrology is the study of the properties, distribution & effects of water on the surface, subsurface, & atmosphere.\n",
      "Geology is the study of the origin, history, and structure of the earth.\n",
      "Meteorology is the study of the phenomena of the atmosphere, especially weather and weather conditions.\n"
     ]
    }
   ],
   "source": [
    "for key,value in environmental_disciplines.items():\n",
    "    print(f\"{key.capitalize()} is the study of {value.lower()}\")"
   ]
  },
  {
   "cell_type": "code",
   "execution_count": 20,
   "metadata": {},
   "outputs": [
    {
     "data": {
      "text/plain": [
       "'Definition not found'"
      ]
     },
     "execution_count": 20,
     "metadata": {},
     "output_type": "execute_result"
    }
   ],
   "source": [
    "# use .get() to continue executing, even if there is a key error\n",
    "environmental_disciplines.get('xenohydrology')\n",
    "\n",
    "# instead of stopping code, print 'Definition not found'\n",
    "environmental_disciplines.get('apples', 'Definition not found')"
   ]
  },
  {
   "cell_type": "code",
   "execution_count": 24,
   "metadata": {},
   "outputs": [
    {
     "name": "stdout",
     "output_type": "stream",
     "text": [
      "Climatology definition not found\n",
      "Ecology the relationships between organisms and their environments.\n",
      "Meteorology the phenomena of the atmosphere, especially weather and weather conditions.\n",
      "Geology the origin, history, and structure of the earth.\n",
      "Biogeochemistry definition not found\n"
     ]
    }
   ],
   "source": [
    "list_of_disciplines = ['climatology', 'ecology', 'meteorology', 'geology', 'biogeochemistry']\n",
    "\n",
    "for discipline in list_of_disciplines:\n",
    "    item = environmental_disciplines.get(discipline, 'Definition not found')\n",
    "    print(f\"{discipline.capitalize()} {item.lower()}\")"
   ]
  },
  {
   "cell_type": "markdown",
   "metadata": {},
   "source": [
    "# Objects"
   ]
  },
  {
   "cell_type": "code",
   "execution_count": 29,
   "metadata": {},
   "outputs": [],
   "source": [
    "my_list = list([2, 3, 4, 5, 6, 7])\n",
    "\n",
    "my_list.append(12) # add 12 to the end of list"
   ]
  },
  {
   "cell_type": "code",
   "execution_count": 30,
   "metadata": {},
   "outputs": [
    {
     "name": "stdout",
     "output_type": "stream",
     "text": [
      "Intel MKL WARNING: Support of Intel(R) Streaming SIMD Extensions 4.2 (Intel(R) SSE4.2) enabled only processors has been deprecated. Intel oneAPI Math Kernel Library 2025.0 will require Intel(R) Advanced Vector Extensions (Intel(R) AVX) instructions.\n",
      "Intel MKL WARNING: Support of Intel(R) Streaming SIMD Extensions 4.2 (Intel(R) SSE4.2) enabled only processors has been deprecated. Intel oneAPI Math Kernel Library 2025.0 will require Intel(R) Advanced Vector Extensions (Intel(R) AVX) instructions.\n"
     ]
    }
   ],
   "source": [
    "import numpy as np"
   ]
  },
  {
   "cell_type": "markdown",
   "metadata": {},
   "source": [
    "# Dictionaries"
   ]
  },
  {
   "cell_type": "code",
   "execution_count": 33,
   "metadata": {},
   "outputs": [
    {
     "name": "stdout",
     "output_type": "stream",
     "text": [
      "{3: 'the number three', <built-in function len>: 'the function len'}\n"
     ]
    }
   ],
   "source": [
    "# can use any object for keys \n",
    "\n",
    "dict_two = dict({\n",
    "    # use numbers\n",
    "    3: 'the number three',\n",
    "    # use functions\n",
    "    len: 'the function len'\n",
    "})\n",
    "\n",
    "print(dict_two)"
   ]
  },
  {
   "cell_type": "code",
   "execution_count": 34,
   "metadata": {},
   "outputs": [
    {
     "name": "stdout",
     "output_type": "stream",
     "text": [
      "{'a': 3, 'b': <built-in function len>}\n"
     ]
    }
   ],
   "source": [
    "# can use any object for values\n",
    " \n",
    "dict_three = dict({\n",
    "    # use numbers\n",
    "    'a': 3,\n",
    "    # use functions\n",
    "    'b': len\n",
    "})\n",
    "\n",
    "print(dict_three)"
   ]
  },
  {
   "cell_type": "code",
   "execution_count": null,
   "metadata": {},
   "outputs": [],
   "source": []
  }
 ],
 "metadata": {
  "kernelspec": {
   "display_name": "eds217_2023",
   "language": "python",
   "name": "python3"
  },
  "language_info": {
   "codemirror_mode": {
    "name": "ipython",
    "version": 3
   },
   "file_extension": ".py",
   "mimetype": "text/x-python",
   "name": "python",
   "nbconvert_exporter": "python",
   "pygments_lexer": "ipython3",
   "version": "3.10.12"
  },
  "orig_nbformat": 4
 },
 "nbformat": 4,
 "nbformat_minor": 2
}
