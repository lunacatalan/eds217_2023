{
 "cells": [
  {
   "cell_type": "markdown",
   "metadata": {},
   "source": [
    "# Notes on 1-1 Variables"
   ]
  },
  {
   "cell_type": "code",
   "execution_count": 85,
   "metadata": {},
   "outputs": [],
   "source": [
    "# integer\n",
    "a = 5 \n",
    "# float\n",
    "b = 1.0 "
   ]
  },
  {
   "cell_type": "code",
   "execution_count": 86,
   "metadata": {},
   "outputs": [],
   "source": [
    "# output is float\n",
    "c = a / b "
   ]
  },
  {
   "cell_type": "code",
   "execution_count": 87,
   "metadata": {},
   "outputs": [],
   "source": [
    "# doing some math \n",
    "\n",
    "x = 1.0\n",
    "y = 42.0\n",
    "z = 23.782043"
   ]
  },
  {
   "cell_type": "code",
   "execution_count": 88,
   "metadata": {},
   "outputs": [
    {
     "data": {
      "text/plain": [
       "6.345483523520177e+57"
      ]
     },
     "execution_count": 88,
     "metadata": {},
     "output_type": "execute_result"
    }
   ],
   "source": [
    "z ** y"
   ]
  },
  {
   "cell_type": "markdown",
   "metadata": {},
   "source": [
    "### Built in functions \n"
   ]
  },
  {
   "cell_type": "code",
   "execution_count": 89,
   "metadata": {},
   "outputs": [
    {
     "data": {
      "text/plain": [
       "float"
      ]
     },
     "execution_count": 89,
     "metadata": {},
     "output_type": "execute_result"
    }
   ],
   "source": [
    "type(z)"
   ]
  },
  {
   "cell_type": "code",
   "execution_count": 90,
   "metadata": {},
   "outputs": [
    {
     "data": {
      "text/plain": [
       "True"
      ]
     },
     "execution_count": 90,
     "metadata": {},
     "output_type": "execute_result"
    }
   ],
   "source": [
    "# this is true\n",
    "isinstance(12, int) \n",
    "\n",
    "# this is false\n",
    "isinstance(13.45, int) \n",
    "\n",
    "# this is true; may ask a variable\n",
    "isinstance(z, float)\n",
    "\n",
    "# can ask it if it fufills any of a list; this is true \n",
    "isinstance(a, (int, float))"
   ]
  },
  {
   "cell_type": "code",
   "execution_count": 91,
   "metadata": {},
   "outputs": [
    {
     "name": "stdout",
     "output_type": "stream",
     "text": [
      "y as int: 54\n",
      "54.0\n",
      "y as float: 54.0\n",
      "5\n"
     ]
    }
   ],
   "source": [
    "y = 54\n",
    "print(f\"y as int: {y}\")\n",
    "print(float(y))\n",
    "print(f\"y as float: {float(y)}\")\n",
    "print(int(c))"
   ]
  },
  {
   "cell_type": "code",
   "execution_count": 92,
   "metadata": {},
   "outputs": [
    {
     "name": "stdout",
     "output_type": "stream",
     "text": [
      "24\n",
      "23.782\n"
     ]
    }
   ],
   "source": [
    "print(round(z))\n",
    "\n",
    "# round z value to 3 decimals \n",
    "print(round(z, 3))"
   ]
  },
  {
   "cell_type": "code",
   "execution_count": 93,
   "metadata": {},
   "outputs": [
    {
     "name": "stdout",
     "output_type": "stream",
     "text": [
      "23.78204\n"
     ]
    }
   ],
   "source": [
    "# python is okay with white space \n",
    "print( \n",
    "    round(z, 5)\n",
    "    )"
   ]
  },
  {
   "cell_type": "code",
   "execution_count": 94,
   "metadata": {},
   "outputs": [
    {
     "data": {
      "text/plain": [
       "(15.0, 3.0000000000000053)"
      ]
     },
     "execution_count": 94,
     "metadata": {},
     "output_type": "execute_result"
    }
   ],
   "source": [
    "# output is the number of times 4 goes into 64, and the remainder\n",
    "## (16, 0)\n",
    "divmod(64, 4)\n",
    "\n",
    "# 4.6 goes into 72... 15 times, with a remainer of 3.00000... \n",
    "##(15.0, 3.0000000000000053)\n",
    "divmod(72, 4.6)"
   ]
  },
  {
   "cell_type": "markdown",
   "metadata": {},
   "source": [
    "## Strings"
   ]
  },
  {
   "cell_type": "code",
   "execution_count": 95,
   "metadata": {},
   "outputs": [],
   "source": [
    "# the space counts when calculating size of string\n",
    "s = 'isaac' + ' ' + 'newton'"
   ]
  },
  {
   "cell_type": "code",
   "execution_count": 96,
   "metadata": {},
   "outputs": [
    {
     "name": "stdout",
     "output_type": "stream",
     "text": [
      "The first half...the second half\n"
     ]
    }
   ],
   "source": [
    "string_1 = \"The first half...\"\n",
    "string_2 = \"the second half\"\n",
    "\n",
    "string_3 = string_1 + string_2\n",
    "print(string_3)"
   ]
  },
  {
   "cell_type": "code",
   "execution_count": 97,
   "metadata": {},
   "outputs": [
    {
     "name": "stdout",
     "output_type": "stream",
     "text": [
      "ISAAC NEWTON\n"
     ]
    },
    {
     "data": {
      "text/plain": [
       "'Isaac newton'"
      ]
     },
     "execution_count": 97,
     "metadata": {},
     "output_type": "execute_result"
    }
   ],
   "source": [
    "print(s.upper()) # make string s all caps\n",
    "s.capitalize() # capitalize the I"
   ]
  },
  {
   "cell_type": "code",
   "execution_count": 98,
   "metadata": {},
   "outputs": [
    {
     "name": "stdout",
     "output_type": "stream",
     "text": [
      "THE FIRST HALF...THE SECOND HALF\n"
     ]
    }
   ],
   "source": [
    "print(string_3.upper())"
   ]
  },
  {
   "cell_type": "code",
   "execution_count": 99,
   "metadata": {},
   "outputs": [
    {
     "name": "stdout",
     "output_type": "stream",
     "text": [
      "I live in Santa Barbara\n",
      "I have lived in Santa Barbara for 3 years\n"
     ]
    }
   ],
   "source": [
    "city = 'Santa Barbara'\n",
    "yrs = 3\n",
    "\n",
    "print(f\"I live in {city}\")\n",
    "print(f\"I have lived in {city} for {yrs} years\")"
   ]
  },
  {
   "cell_type": "markdown",
   "metadata": {},
   "source": [
    "# Lists"
   ]
  },
  {
   "cell_type": "code",
   "execution_count": 100,
   "metadata": {},
   "outputs": [],
   "source": [
    "# Define list variables\n",
    "num_list = [4, 23, 654, 2, 0, -12, 4391]\n",
    "str_list = ['energy', 'water', 'carbon']"
   ]
  },
  {
   "cell_type": "code",
   "execution_count": 101,
   "metadata": {},
   "outputs": [
    {
     "name": "stdout",
     "output_type": "stream",
     "text": [
      "num_len has 7 items\n",
      "the smallest number is -12\n",
      "the largest number is 4391\n"
     ]
    }
   ],
   "source": [
    "# Find the length of num_list\n",
    "print(f\"num_len has {len(num_list)} items\")\n",
    "\n",
    "# Minimum value of num_list\n",
    "print(f\"the smallest number is {min(num_list)}\")\n",
    "\n",
    "# Maximum value of num_list\n",
    "print(f\"the largest number is {max(num_list)}\")"
   ]
  },
  {
   "cell_type": "markdown",
   "metadata": {},
   "source": [
    "## Indexing\n",
    "- python uses zero indexing! That means that the first item on the list is [0]"
   ]
  },
  {
   "cell_type": "code",
   "execution_count": 102,
   "metadata": {},
   "outputs": [
    {
     "data": {
      "text/plain": [
       "'energy'"
      ]
     },
     "execution_count": 102,
     "metadata": {},
     "output_type": "execute_result"
    }
   ],
   "source": [
    "str_list = ['energy', 'water', 'carbon']\n",
    "\n",
    "# output is the first item in the list \n",
    "str_list[0]\n"
   ]
  },
  {
   "cell_type": "code",
   "execution_count": 103,
   "metadata": {},
   "outputs": [
    {
     "data": {
      "text/plain": [
       "-12"
      ]
     },
     "execution_count": 103,
     "metadata": {},
     "output_type": "execute_result"
    }
   ],
   "source": [
    "num_list = [4, 23, 654, 2, 0, -12, 4391]\n",
    "\n",
    "# this is the last itme in the list\n",
    "## therefore, [-2] would be the second to last item on the list (count backwards)\n",
    "num_list[-1]\n",
    "num_list[-2] \n"
   ]
  },
  {
   "cell_type": "markdown",
   "metadata": {},
   "source": [
    "## Slicing \n",
    "- python does not take the last element"
   ]
  },
  {
   "cell_type": "code",
   "execution_count": 104,
   "metadata": {},
   "outputs": [
    {
     "data": {
      "text/plain": [
       "[23, 654, 2, 0, -12]"
      ]
     },
     "execution_count": 104,
     "metadata": {},
     "output_type": "execute_result"
    }
   ],
   "source": [
    "num_list = [4, 23, 654, 2, 0, -12, 4391]\n",
    "\n",
    "# will return item 2 and 3 but not 4\n",
    "num_list[2:4] \n",
    "\n",
    "# if you dont include anything on the left, it assumed the 0 index\n",
    "num_list[:4]\n",
    "\n",
    "# will include up to the 3rd index\n",
    "num_list[3:]\n",
    "\n",
    "# will include from index [-6] and will not include item [-1]\n",
    "num_list[-6:-1]\n",
    "##[23, 654, 2, 0, -12]"
   ]
  },
  {
   "cell_type": "code",
   "execution_count": 106,
   "metadata": {},
   "outputs": [
    {
     "data": {
      "text/plain": [
       "[4, 654]"
      ]
     },
     "execution_count": 106,
     "metadata": {},
     "output_type": "execute_result"
    }
   ],
   "source": [
    "num_list = [4, 23, 654, 2, 0, -12, 4391]\n",
    "\n",
    "# will skip from index defined by first two numbers by the last number\n",
    "## this will show every other value, starting with the first one\n",
    "num_list[0:4:2]"
   ]
  },
  {
   "cell_type": "code",
   "execution_count": 107,
   "metadata": {},
   "outputs": [
    {
     "data": {
      "text/plain": [
       "[4391, -12, 0, 2, 654, 23, 4]"
      ]
     },
     "execution_count": 107,
     "metadata": {},
     "output_type": "execute_result"
    }
   ],
   "source": [
    "# turn the array around\n",
    "num_list[::-1]"
   ]
  },
  {
   "cell_type": "code",
   "execution_count": 113,
   "metadata": {},
   "outputs": [
    {
     "name": "stdout",
     "output_type": "stream",
     "text": [
      "['red', 'blue', 'green', 'black', 'purple', 'white']\n",
      "['red', 'green', 'black', 'purple', 'white']\n",
      "['red', 'green', 'black', 'purple']\n"
     ]
    }
   ],
   "source": [
    "colors = ['red', 'blue', 'green', 'black', 'white']\n",
    "\n",
    "# insert purple to the 4th position\n",
    "colors.insert(4, 'purple')\n",
    "print(colors)\n",
    "\n",
    "# remove selected element; can't use index location\n",
    "colors.remove('blue')\n",
    "print(colors)\n",
    "\n",
    "# remove selected element using index\n",
    "colors.pop(4)\n",
    "print(colors)"
   ]
  },
  {
   "cell_type": "code",
   "execution_count": 126,
   "metadata": {},
   "outputs": [
    {
     "name": "stdout",
     "output_type": "stream",
     "text": [
      "[0.5, 3.333, 3.42, 5.1, 5.8, 7.44, 26.0, 39.0, 100.4]\n",
      "the max value of rand_lsit is 100.4, and the min value of rand_list is 0.5\n",
      "the first value of rand_list 0.5, and the last value is 100.4\n"
     ]
    }
   ],
   "source": [
    "rand_list = [5.1 , 3.42 , 3.333 , 100.4 , 0.5 , 26.0 , 7.44 , 5.8 , 39.0]\n",
    "\n",
    "# will sort the list based on value; will ALTER the original list\n",
    "rand_list.sort()\n",
    "print(rand_list)\n",
    "\n",
    "# print min and max values\n",
    "print(f\"the max value of rand_lsit is {max(rand_list)}, and the min value of rand_list is {min(rand_list)}\")\n",
    "\n",
    "# Print the first and last values in rand_list\n",
    "print(f\"the first value of rand_list {rand_list[0]}, and the last value is {rand_list[-1]}\")\n"
   ]
  },
  {
   "cell_type": "code",
   "execution_count": 127,
   "metadata": {},
   "outputs": [
    {
     "name": "stdout",
     "output_type": "stream",
     "text": [
      "[0.5, 3.333, 3.42, 5.1, 5.8, 7.44, 26.0, 39.0, 100.4]\n",
      "[5.1, 3.42, 3.333, 100.4, 0.5, 26.0, 7.44, 5.8, 39.0]\n"
     ]
    },
    {
     "data": {
      "text/plain": [
       "False"
      ]
     },
     "execution_count": 127,
     "metadata": {},
     "output_type": "execute_result"
    }
   ],
   "source": [
    "rand_list = [5.1 , 3.42 , 3.333 , 100.4 , 0.5 , 26.0 , 7.44 , 5.8 , 39.0]\n",
    "\n",
    "# will not alter the original list\n",
    "sort_list = sorted(rand_list)\n",
    "\n",
    "print(sort_list) # this is sorted\n",
    "print(rand_list) # original list has not changed\n"
   ]
  },
  {
   "cell_type": "markdown",
   "metadata": {},
   "source": [
    "# Make Copies"
   ]
  },
  {
   "cell_type": "code",
   "execution_count": 130,
   "metadata": {},
   "outputs": [
    {
     "name": "stdout",
     "output_type": "stream",
     "text": [
      "['energy', 'water', 'carbon']\n",
      "['energy', 'water', 'carbon']\n",
      "['energy', 'water', 'carbon']\n",
      "['energy', 'water', 'carbon']\n"
     ]
    }
   ],
   "source": [
    "str_list = ['energy', 'water', 'carbon']\n",
    "print(str_list)\n",
    "\n",
    "# will make a copy\n",
    "str_list_copy = str_list.copy()\n",
    "print(str_list_copy)\n",
    "\n",
    "# I need a new list that has all the elements of the list; will make a copy \n",
    "str_list_copy_2 = str_list[:]\n",
    "print(str_list_copy_2)\n",
    "\n",
    "# make a list of the selected list will make a copy\n",
    "str_list_copy_3 = list(str_list)\n",
    "print(str_list_copy_3)"
   ]
  },
  {
   "cell_type": "code",
   "execution_count": null,
   "metadata": {},
   "outputs": [],
   "source": []
  }
 ],
 "metadata": {
  "kernelspec": {
   "display_name": "eds217_2023",
   "language": "python",
   "name": "python3"
  },
  "language_info": {
   "codemirror_mode": {
    "name": "ipython",
    "version": 3
   },
   "file_extension": ".py",
   "mimetype": "text/x-python",
   "name": "python",
   "nbconvert_exporter": "python",
   "pygments_lexer": "ipython3",
   "version": "3.10.12"
  },
  "orig_nbformat": 4
 },
 "nbformat": 4,
 "nbformat_minor": 2
}
