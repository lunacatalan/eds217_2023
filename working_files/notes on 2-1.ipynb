{
 "cells": [
  {
   "cell_type": "markdown",
   "metadata": {},
   "source": [
    "# If else statements"
   ]
  },
  {
   "cell_type": "code",
   "execution_count": 60,
   "metadata": {},
   "outputs": [
    {
     "name": "stdout",
     "output_type": "stream",
     "text": [
      "x is a positive number.\n"
     ]
    }
   ],
   "source": [
    "# Define x\n",
    "x = 4\n",
    "# Evaluate condition\n",
    "if x > 0:\n",
    "    print('x is a positive number.')"
   ]
  },
  {
   "cell_type": "markdown",
   "metadata": {},
   "source": [
    "- else is good for when condition is not met"
   ]
  },
  {
   "cell_type": "code",
   "execution_count": 61,
   "metadata": {},
   "outputs": [
    {
     "name": "stdout",
     "output_type": "stream",
     "text": [
      "x is less than or equal to 0. Please enter another number.\n"
     ]
    }
   ],
   "source": [
    "x = -2\n",
    "# Evaluate condition\n",
    "if x > 0:\n",
    "    print('x is a positive number.')\n",
    "else:\n",
    "    print('x is less than or equal to 0. Please enter another number.')"
   ]
  },
  {
   "cell_type": "markdown",
   "metadata": {},
   "source": [
    "- for multiple else statements use elif"
   ]
  },
  {
   "cell_type": "code",
   "execution_count": 62,
   "metadata": {},
   "outputs": [
    {
     "name": "stdout",
     "output_type": "stream",
     "text": [
      "y is a negative number, or less than 3.\n"
     ]
    }
   ],
   "source": [
    "y = 2\n",
    "if y > 3:\n",
    "    print('y is a positive number greater than 3.')\n",
    "# to make a variable equal to a number use double = signs (==)\n",
    "elif y == 3: \n",
    "    print('y = 3')\n",
    "else:\n",
    "    print('y is a negative number, or less than 3.')"
   ]
  },
  {
   "cell_type": "code",
   "execution_count": 63,
   "metadata": {},
   "outputs": [
    {
     "name": "stdout",
     "output_type": "stream",
     "text": [
      "You are going to need 9 peaches.\n"
     ]
    }
   ],
   "source": [
    "# experimenting \n",
    "variable = 'peaches'\n",
    "\n",
    "n_peaches = 0\n",
    "pie_size = 10\n",
    "\n",
    "if pie_size == 8:\n",
    "    n_peaches = 6\n",
    "elif pie_size == 10:\n",
    "    n_peaches = 9\n",
    "elif pie_size == 12:\n",
    "    n_peaches = 11\n",
    "else:\n",
    "    print(\"Not a valid pie size\")\n",
    "\n",
    "if n_peaches > 0:\n",
    "    print(f\"You are going to need {n_peaches} peaches.\")"
   ]
  },
  {
   "cell_type": "markdown",
   "metadata": {},
   "source": [
    "## Use \"in\" statements for conditionals"
   ]
  },
  {
   "cell_type": "code",
   "execution_count": 64,
   "metadata": {},
   "outputs": [
    {
     "name": "stdout",
     "output_type": "stream",
     "text": [
      "Arginine is an amino acid.\n"
     ]
    }
   ],
   "source": [
    "# make list \n",
    "aminoacids = ['histidine', 'isoleucine', 'leucine', 'lysine', 'methionine', \n",
    "              'phenylalanine', 'threonine', 'tryptophan', 'valine', 'alanine', \n",
    "              'arginine', 'asparagine', 'aspartate', 'cysteine', 'glutamate', \n",
    "              'glutamine', 'glycine', 'proline', 'serine', 'tyrosine']\n",
    "\n",
    "# input here for if statemetn below \n",
    "org_compound = 'arginine'\n",
    "\n",
    "# if 'input' is in 'list' \n",
    "if org_compound in aminoacids:\n",
    "    print(org_compound.capitalize() + ' is an amino acid.' )\n",
    "else:\n",
    "    print(org_compound.capitalize() + ' is not an amino acid.')"
   ]
  },
  {
   "cell_type": "code",
   "execution_count": 65,
   "metadata": {},
   "outputs": [
    {
     "name": "stdout",
     "output_type": "stream",
     "text": [
      "Tryptophan is an essential, aromatic amino acid.\n"
     ]
    }
   ],
   "source": [
    "# make list 1\n",
    "essential = ['histidine', 'lysine', 'threonine', 'tryptophan', \n",
    "             'valine', 'methionine', 'leucine', 'phenylalanine']\n",
    "# make list 2\n",
    "aromatic = ['phenylalanine', 'tryptophan', 'tyrosine']\n",
    "\n",
    "# make input\n",
    "aa = 'tryptophan'\n",
    "\n",
    "# will print the condition that it satisfies first; so make sure to organize with this in mind  \n",
    "if aa in aromatic and aa in essential:\n",
    "    print(aa.capitalize() + ' is an essential, aromatic amino acid.')\n",
    "elif aa in essential:\n",
    "    print(aa.capitalize() + ' is an essential, non-aromatic amino acid.')\n",
    "elif aa in aromatic:\n",
    "    print(aa.capitalize() + ' is a non-essential, aromatic amino acid.')\n",
    "elif aa in aminoacids:\n",
    "    print(aa.capitalize() + 'is a non-essential amino acid.')\n",
    "else:\n",
    "    print(aa.capitalize() + ' is not an amino acid.')"
   ]
  },
  {
   "cell_type": "markdown",
   "metadata": {},
   "source": [
    "## Using 'or' operator"
   ]
  },
  {
   "cell_type": "code",
   "execution_count": 66,
   "metadata": {},
   "outputs": [
    {
     "name": "stdout",
     "output_type": "stream",
     "text": [
      "Tryptophan is a polar amino acid.\n"
     ]
    }
   ],
   "source": [
    "# list 1\n",
    "charged = ['arginine', 'lysine', 'aspartate', 'glutamate']\n",
    "# list 2\n",
    "polar_un = ['glutamine', 'asparagine', 'histidine', 'serine', 'threonine', 'tyrosine', 'cysteine']\n",
    "\n",
    "if aa in charged or polar_un:\n",
    "    print(aa.capitalize() + ' is a polar amino acid.')\n",
    "elif aa in aminoacids:\n",
    "    print(aa.capitalize() + ' is a non-polar amino acid.')\n",
    "else:\n",
    "    print(aa.capitalize() + ' is not an amino acid.')"
   ]
  },
  {
   "cell_type": "markdown",
   "metadata": {},
   "source": [
    "- nested if and or statements"
   ]
  },
  {
   "cell_type": "code",
   "execution_count": 67,
   "metadata": {},
   "outputs": [
    {
     "name": "stdout",
     "output_type": "stream",
     "text": [
      "Tryptophan is a polar amino acid.\n"
     ]
    }
   ],
   "source": [
    "# list 1\n",
    "aminoacids = ['histidine', 'isoleucine', 'leucine', 'lysine', 'methionine', \n",
    "              'phenylalanine', 'threonine', 'tryptophan', 'valine', 'alanine', \n",
    "              'arginine', 'asparagine', 'aspartate', 'cysteine', 'glutamate', \n",
    "              'glutamine', 'glycine', 'proline', 'serine', 'tyrosine']\n",
    "\n",
    "# list 2\n",
    "charged = ['arginine', 'lysine', 'aspartate', 'glutamate']\n",
    "# list 3\n",
    "polar_un = ['glutamine', 'asparagine', 'histidine', 'serine', 'threonine', 'tyrosine', 'cysteine']\n",
    "\n",
    "if aa in aminoacids:\n",
    "    if aa in charged or polar_un:\n",
    "        print(aa.capitalize() + ' is a polar amino acid.')\n",
    "    else:\n",
    "        print(aa.capitalize() + ' is a non-polar amino acid.')\n",
    "else:\n",
    "    print(aa.capitalize() + ' is not an amino acid.')"
   ]
  },
  {
   "cell_type": "code",
   "execution_count": 68,
   "metadata": {},
   "outputs": [
    {
     "name": "stdout",
     "output_type": "stream",
     "text": [
      "I didnt know that avocado was a fruit. Wow!\n"
     ]
    }
   ],
   "source": [
    "# experiment with nested statements \n",
    "\n",
    "# make list 1\n",
    "fruits = ['apple', 'orange', 'cherry', 'avocado', 'tomato']\n",
    "\n",
    "sweet = ['apple', 'orange', 'cherry']\n",
    "savory = ['avocado', 'tomato']\n",
    "\n",
    "fruit = 'avocado'\n",
    "if fruit in fruits:\n",
    "    if fruit in sweet:\n",
    "        print(fruit.capitalize() + ' is a sweet fruit!')\n",
    "    else:\n",
    "        print('I didnt know that ' + fruit + ' was a fruit. Wow!')\n",
    "else:\n",
    "    print(fruit.capitalize() + ' is not a fruit.')"
   ]
  },
  {
   "cell_type": "markdown",
   "metadata": {},
   "source": [
    "# For Loops\n",
    "- program can iterate over a list every element, and evaluate it in sequence "
   ]
  },
  {
   "cell_type": "code",
   "execution_count": 69,
   "metadata": {},
   "outputs": [
    {
     "name": "stdout",
     "output_type": "stream",
     "text": [
      "1\n",
      "2\n",
      "3\n",
      "4\n"
     ]
    }
   ],
   "source": [
    "for i in range(4): # for position i in range 4 (creates a list of numbers 0, 1, 2, 3)\n",
    "    print(i + 1)"
   ]
  },
  {
   "cell_type": "code",
   "execution_count": 70,
   "metadata": {},
   "outputs": [
    {
     "name": "stdout",
     "output_type": "stream",
     "text": [
      "histidine\n",
      "isoleucine\n",
      "leucine\n",
      "lysine\n",
      "methionine\n",
      "phenylalanine\n",
      "threonine\n",
      "tryptophan\n",
      "valine\n",
      "alanine\n",
      "arginine\n",
      "asparagine\n",
      "aspartate\n",
      "cysteine\n",
      "glutamate\n",
      "glutamine\n",
      "glycine\n",
      "proline\n",
      "serine\n",
      "tyrosine\n"
     ]
    }
   ],
   "source": [
    "# not keeping track of how many times it is iterating over; DO NOT specify index eg. length(aminoacids)\n",
    "for aa in aminoacids:\n",
    "    print(aa)\n"
   ]
  },
  {
   "cell_type": "markdown",
   "metadata": {},
   "source": [
    "- to keep track of index use enumerate()\n",
    "\n",
    "- produces two things: position and value\n",
    "\n",
    "- this can be written as position,value (eg. for *i,gas* in gases)\n",
    "\n",
    "    - *i* is the position\n",
    "    \n",
    "    - *gas* is the value in the list at *index i*\n"
   ]
  },
  {
   "cell_type": "code",
   "execution_count": 73,
   "metadata": {},
   "outputs": [
    {
     "name": "stdout",
     "output_type": "stream",
     "text": [
      "the 0 value is: 6\n",
      "the 1 value is: 9\n",
      "the 2 value is: 12\n",
      "the 3 value is: 15\n",
      "the 4 value is: 16\n"
     ]
    }
   ],
   "source": [
    "for i,n_peaches in enumerate([6, 9, 12, 15, 16]):\n",
    "    print(f\"the {i} value is: {n_peaches}\")"
   ]
  },
  {
   "cell_type": "code",
   "execution_count": 75,
   "metadata": {},
   "outputs": [
    {
     "ename": "TypeError",
     "evalue": "not all arguments converted during string formatting",
     "output_type": "error",
     "traceback": [
      "\u001b[0;31m---------------------------------------------------------------------------\u001b[0m",
      "\u001b[0;31mTypeError\u001b[0m                                 Traceback (most recent call last)",
      "Cell \u001b[0;32mIn[75], line 7\u001b[0m\n\u001b[1;32m      5\u001b[0m \u001b[39mfor\u001b[39;00m i,gas \u001b[39min\u001b[39;00m \u001b[39menumerate\u001b[39m(gases):\n\u001b[1;32m      6\u001b[0m     rank \u001b[39m=\u001b[39m i \u001b[39m+\u001b[39m \u001b[39m1\u001b[39m \u001b[39m# will give the position starting at index 0\u001b[39;00m\n\u001b[0;32m----> 7\u001b[0m     \u001b[39mprint\u001b[39m(\u001b[39m'\u001b[39;49m\u001b[39mThe \u001b[39;49m\u001b[39m{rank}\u001b[39;49;00m\u001b[39m most abundant gas in the atmosphere is \u001b[39;49m\u001b[39m%s\u001b[39;49;00m\u001b[39m.\u001b[39;49m\u001b[39m'\u001b[39;49m \u001b[39m%\u001b[39;49m(rank,gas))\n",
      "\u001b[0;31mTypeError\u001b[0m: not all arguments converted during string formatting"
     ]
    }
   ],
   "source": [
    "# create list\n",
    "gases = ['N2', 'O2', 'Ar', 'H2O', 'CO2']\n",
    "\n",
    "# returns the item and the position/index\n",
    "for i,gas in enumerate(gases):\n",
    "    rank = i + 1 # will give the position starting at index 0\n",
    "    print('The #%d most abundant gas in the atmosphere is %s.' %(rank,gas))"
   ]
  },
  {
   "cell_type": "code",
   "execution_count": 77,
   "metadata": {},
   "outputs": [
    {
     "name": "stdout",
     "output_type": "stream",
     "text": [
      "the atomic mass of N2 is 28\n",
      "the atomic mass of O2 is 32\n",
      "the atomic mass of Ar is 39\n",
      "the atomic mass of H2O is 18\n",
      "the atomic mass of CO2 is 44\n"
     ]
    }
   ],
   "source": [
    "# create lists\n",
    "gases = ['N2', 'O2', 'Ar', 'H2O', 'CO2'] \n",
    "gas_mass = [28, 32, 39, 18, 44] # g/mol\n",
    "\n",
    "for i,gas in enumerate(gases):\n",
    "    this_mass = gas_mass[i]\n",
    "    print(f\"the atomic mass of {gas} is {this_mass}\")"
   ]
  },
  {
   "cell_type": "code",
   "execution_count": 90,
   "metadata": {},
   "outputs": [
    {
     "name": "stdout",
     "output_type": "stream",
     "text": [
      "the atomic mass of N2 or, Nitrogen, is approximately 28 g/mol\n",
      "the atomic mass of O2 or, Oxygen, is approximately 32 g/mol\n",
      "the atomic mass of Ar or, Argon, is approximately 39 g/mol\n",
      "the atomic mass of H2O or, Water, is approximately 18 g/mol\n",
      "the atomic mass of CO2 or, Carbon Dioxide, is approximately 44 g/mol\n"
     ]
    }
   ],
   "source": [
    "gases = ['N2', 'O2', 'Ar', 'H2O', 'CO2'] \n",
    "masses = [28,    32,   39,    18,   44] # g/mol\n",
    "names = ['Nitrogen', 'Oxygen', 'Argon', 'Water', 'Carbon Dioxide']\n",
    "\n",
    "for gas,mass,name in zip(gases, masses, names): # take these lists and zip them together\n",
    "    print(f\"the atomic mass of {gas} or, {name}, is approximately {mass} g/mol\")\n"
   ]
  },
  {
   "cell_type": "code",
   "execution_count": 94,
   "metadata": {},
   "outputs": [
    {
     "name": "stdout",
     "output_type": "stream",
     "text": [
      "There are 1.73e+44 molecules of N2 in the atmosphere.\n",
      "There are 4.06e+43 molecules of O2 in the atmosphere.\n",
      "There are 7.25e+41 molecules of Ar in the atmosphere.\n",
      "There are 4.30e+41 molecules of H2O in the atmosphere.\n",
      "There are 2.21e+40 molecules of CO2 in the atmosphere.\n"
     ]
    }
   ],
   "source": [
    "gases = ['N2', 'O2', 'Ar', 'H2O', 'CO2']\n",
    "gas_frac = [0.78084, 0.209476, 0.00934, 0.0025, 0.000314]\n",
    "gas_molar_mass = [14.0067, 15.999, 39.948, 18.01528, 44.01]\n",
    "\n",
    "mass_atmosphere = 5.148e21   # grams\n",
    "n_a = 6.022e23    # Avogadro's number\n",
    "\n",
    "for i,(frac,mol_mass) in enumerate(zip(gas_frac,gas_molar_mass)):\n",
    "    gas = gases[i]\n",
    "    mass = frac * mass_atmosphere\n",
    "    molecules = (mass / mol_mass ) * n_a\n",
    "    print('There are ' + '{:.2e}'.format(molecules) + ' molecules of %s in the atmosphere.' % (gas))"
   ]
  },
  {
   "cell_type": "code",
   "execution_count": null,
   "metadata": {},
   "outputs": [],
   "source": []
  }
 ],
 "metadata": {
  "kernelspec": {
   "display_name": "eds217_2023",
   "language": "python",
   "name": "python3"
  },
  "language_info": {
   "codemirror_mode": {
    "name": "ipython",
    "version": 3
   },
   "file_extension": ".py",
   "mimetype": "text/x-python",
   "name": "python",
   "nbconvert_exporter": "python",
   "pygments_lexer": "ipython3",
   "version": "3.10.12"
  },
  "orig_nbformat": 4
 },
 "nbformat": 4,
 "nbformat_minor": 2
}
