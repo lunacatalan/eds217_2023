{
 "cells": [
  {
   "cell_type": "code",
   "execution_count": 5,
   "metadata": {},
   "outputs": [
    {
     "data": {
      "text/plain": [
       "array([ True,  True, False,  True,  True,  True])"
      ]
     },
     "execution_count": 5,
     "metadata": {},
     "output_type": "execute_result"
    }
   ],
   "source": [
    "import numpy as np\n",
    "\n",
    "my_list = list([4, 5, 6, 7, 89, 9])\n",
    "my_array = np.array([4, 5, 2, 7, 89, 9])\n",
    "\n",
    "my_list == my_array # will loop through every valu in array"
   ]
  },
  {
   "cell_type": "markdown",
   "metadata": {},
   "source": [
    "NumPy treats the inner element(s) or list(s) as rows. This is easier to see with a multidimensional array:\n",
    "\n",
    "```python\n",
    "np.array([[3,2,0,1],[9,1,8,7],[4,0,1,6]]) # array with 3 rows x 4 columns\n",
    "\n",
    ">>> array([[3, 2, 0, 1],\n",
    "           [9, 1, 8, 7],\n",
    "           [4, 0, 1, 6]])\n"
   ]
  },
  {
   "cell_type": "markdown",
   "metadata": {},
   "source": [
    "- if the rows are different lengths, it will not print because we have created an indeterminate position "
   ]
  },
  {
   "cell_type": "code",
   "execution_count": 13,
   "metadata": {},
   "outputs": [
    {
     "name": "stdout",
     "output_type": "stream",
     "text": [
      "[[3 2 0 1]\n",
      " [9 1 8 7]\n",
      " [4 0 4 6]]\n"
     ]
    }
   ],
   "source": [
    "a = np.array([[3,2,0,1],\n",
    "              [9,1,8,7],\n",
    "              [4,0,4,6]]) # array with 3 rows x 4 columns\n",
    "\n",
    "# output is nice and formatted\n",
    "print(a) "
   ]
  },
  {
   "cell_type": "markdown",
   "metadata": {},
   "source": [
    "1. `a`  \n",
    "    $$\n",
    "    \\begin{bmatrix}\n",
    "        4 & 5 & 0 & 12 & -1 \\\\\n",
    "        8 & -21 & -4 & 6 & 3 \\\\\n",
    "        17 & 1 & -13 & 7 & 0\n",
    "    \\end{bmatrix}\n",
    "    $$"
   ]
  },
  {
   "cell_type": "code",
   "execution_count": 16,
   "metadata": {},
   "outputs": [
    {
     "name": "stdout",
     "output_type": "stream",
     "text": [
      "[[  4   5   0  12  -1]\n",
      " [  8 -21  -4   6   3]\n",
      " [ 17   1 -13   7   0]]\n"
     ]
    }
   ],
   "source": [
    "p_1 = np.array([[4, 5, 0, 12, -1],\n",
    "                       [8, -21, -4, 6, 3],\n",
    "                       [17, 1, -13, 7, 0]])\n",
    "\n",
    "print(p_1)"
   ]
  },
  {
   "cell_type": "markdown",
   "metadata": {},
   "source": [
    "2. `b`  \n",
    "    $$\n",
    "    \\begin{bmatrix}\n",
    "        1.0 & 2.7 & 0 & 0.188 & 4.07 & 0.24\n",
    "    \\end{bmatrix}\n",
    "    $$"
   ]
  },
  {
   "cell_type": "code",
   "execution_count": 18,
   "metadata": {},
   "outputs": [
    {
     "name": "stdout",
     "output_type": "stream",
     "text": [
      "[1.    2.7   0.    0.188 4.7   0.2  ]\n"
     ]
    }
   ],
   "source": [
    "p_2 = np.array([1, 2.7, 0, 0.188, 4.7, 0.2])\n",
    "\n",
    "print(p_2)"
   ]
  },
  {
   "cell_type": "markdown",
   "metadata": {},
   "source": [
    "3. `c`  \n",
    "    $$\n",
    "    \\begin{bmatrix}\n",
    "        0.4 \\\\\n",
    "        0.8 \\\\\n",
    "        1.2 \\\\\n",
    "        1.6 \\\\\n",
    "        2.0 \\\\\n",
    "        2.4\n",
    "    \\end{bmatrix}\n",
    "    $$"
   ]
  },
  {
   "cell_type": "markdown",
   "metadata": {},
   "source": [
    "p_3 = np.array([[2], \n",
    "                [3],\n",
    "                [5],\n",
    "                [5],\n",
    "                [8],\n",
    "                [10]])\n",
    "\n",
    "print(p_3)"
   ]
  },
  {
   "cell_type": "markdown",
   "metadata": {},
   "source": [
    "# Arrays and Indexing"
   ]
  },
  {
   "cell_type": "code",
   "execution_count": 32,
   "metadata": {},
   "outputs": [
    {
     "name": "stdout",
     "output_type": "stream",
     "text": [
      "[9 1 8 7]\n",
      "7\n"
     ]
    }
   ],
   "source": [
    "# Initialize a two-dimensional array\n",
    "x2 = np.array([[3,2,0,1],\n",
    "               [9,1,8,7],\n",
    "               [4,0,1,6]])\n",
    "\n",
    "# return the value of index = 1 element\n",
    "## this will output the second row of the array\n",
    "print(x2[1])\n",
    "\n",
    "\n",
    "# Return the value of the element in the 2nd row, 3rd column\n",
    "print(x2[1,3])"
   ]
  },
  {
   "cell_type": "code",
   "execution_count": 36,
   "metadata": {},
   "outputs": [
    {
     "name": "stdout",
     "output_type": "stream",
     "text": [
      "[1.5  6.25 2.75]\n"
     ]
    },
    {
     "data": {
      "text/plain": [
       "array([5.33333333, 1.        , 3.        , 4.66666667])"
      ]
     },
     "execution_count": 36,
     "metadata": {},
     "output_type": "execute_result"
    }
   ],
   "source": [
    "# use (axis=1) to calculate averages across columns (# of means is # of rows)\n",
    "across_column_means = x2.mean(axis=1)\n",
    "print(across_column_means)\n",
    "\n",
    "# use (axis=0) to calculate averages down rows (# of means is # of columns)\n",
    "x2.mean(axis=0)\n"
   ]
  },
  {
   "cell_type": "markdown",
   "metadata": {},
   "source": [
    "# numpy things to remember \n",
    "\n",
    "- remember functions \n",
    "\n",
    "- remember slicing \n",
    "\n",
    "- core functions for interogating (size, shape)\n",
    "\n",
    "- how to build arrays"
   ]
  },
  {
   "cell_type": "markdown",
   "metadata": {},
   "source": []
  }
 ],
 "metadata": {
  "kernelspec": {
   "display_name": "eds217_2023",
   "language": "python",
   "name": "python3"
  },
  "language_info": {
   "codemirror_mode": {
    "name": "ipython",
    "version": 3
   },
   "file_extension": ".py",
   "mimetype": "text/x-python",
   "name": "python",
   "nbconvert_exporter": "python",
   "pygments_lexer": "ipython3",
   "version": "3.10.12"
  },
  "orig_nbformat": 4
 },
 "nbformat": 4,
 "nbformat_minor": 2
}
