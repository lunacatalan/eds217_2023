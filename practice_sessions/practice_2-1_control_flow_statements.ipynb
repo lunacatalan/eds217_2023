{
 "cells": [
  {
   "cell_type": "markdown",
   "metadata": {},
   "source": [
    "| [⬅️ Previous Session](practice_1-2_lists.ipynb) | [🏠 Course Home](../index.ipynb) | [➡️ Next Session](practice_2-2_structured_data.ipynb) |\n",
    "\n",
    "# Practice 2-1: Control Flow Statements\n",
    "\n",
    "![control.jpeg](assets/control.jpeg)\n",
    "\n",
    "<hr style=\"border-top: 1px solid gray; margin-top: 24px; margin-bottom: 1px\"></hr>"
   ]
  },
  {
   "cell_type": "markdown",
   "metadata": {},
   "source": [
    "\n",
    "## 📚  Practice 1\n",
    "\n",
    "In programs, <code>if</code> statements are useful for catching errors due to user input. \n",
    "\n",
    "Define two new variables based on user input: the first prompting for a temperature value and the second prompting for the units as \"F\" or \"C\". \n",
    "\n",
    "Using the equation below, write an <code>if</code> statement that converts the temperature input to °C if it was given in °F or to °F if given in °C. Recall that all variables assigned based on user input are strings. Be sure to comment your code.\n",
    "    \n",
    "Formula for conversion between °F and °C:\n",
    "    $$T_{^{\\circ} C} = (T_{^{\\circ} F} - 32) \\times 5/9$$\n"
   ]
  },
  {
   "cell_type": "markdown",
   "metadata": {},
   "source": [
    "Describe your strategy here:\n"
   ]
  },
  {
   "cell_type": "code",
   "execution_count": 12,
   "metadata": {},
   "outputs": [
    {
     "name": "stdout",
     "output_type": "stream",
     "text": [
      "the temperature in Celcius is -1.1111111111111112\n"
     ]
    }
   ],
   "source": [
    "# Add your code here:\n",
    "temp = 'F'\n",
    "t = 30\n",
    "f_to_c = (t - 32) * 5/9\n",
    "c_to_f = 9/5 * t + 32\n",
    "\n",
    "if temp == \"F\": # if temp input is equal to Farenheit\n",
    "    print(f'the temperature in Celcius is {f_to_c}') # use the equation above to convert it to C\n",
    "elif temp == 'C': # if temp input is equal to Celcius \n",
    "    print(f'the temperature in Farenheit is {c_to_f}') # use equation above to convert it to F\n",
    "else:\n",
    "    print('That is not a valid type of temperature. Try F or C') # if no valid unit given try again"
   ]
  },
  {
   "cell_type": "markdown",
   "metadata": {},
   "source": [
    "## 📚  Practice 2. \n",
    "\n",
    "Using nested <code>if</code> statements and your code from Practice question #1, convert the user input temperature to the opposite units (°F to °C or vice versa), print a statement to the user that reports the temperature in the converted units and indicates whether or not the temperature below freezing. \n",
    "\n",
    "Your print statement should look something like:\n",
    "\n",
    "<code>The temperature is {__}°C/F. It is (not) below freezing.</code>\n",
    "\n"
   ]
  },
  {
   "cell_type": "markdown",
   "metadata": {},
   "source": [
    "Describe your strategy here:\n",
    "\n",
    "f_to_c = (t - 32) * 5/9\n",
    "c_to_f = 9/5 * t + 32"
   ]
  },
  {
   "cell_type": "code",
   "execution_count": 68,
   "metadata": {},
   "outputs": [
    {
     "name": "stdout",
     "output_type": "stream",
     "text": [
      "the temperature is 50.0 F. It is not below freezing.\n",
      "the new temp is 50.0\n"
     ]
    }
   ],
   "source": [
    "# Add your code here:\n",
    "\n",
    "temp = input('Give me a temperature')\n",
    "temp = float(temp)\n",
    "\n",
    "unit = input('What are the units?')\n",
    "\n",
    "if unit == \"F\": # if temp input is equal to Farenheit\n",
    "    # convert to celsius \n",
    "    conversion = (temp - 32) * 5/9\n",
    "    if conversion > 0:\n",
    "        print(f'the temperature is {round(conversion, 2)} C. It is not below freezing.')\n",
    "    else:\n",
    "        print(f'the temperature is {round(conversion, 2)} C. It is below freezing.')\n",
    "elif unit == 'C': # if temp input is equal to Celcius \n",
    "    conversion = (9/5 * temp) + 32\n",
    "    if conversion > 32:\n",
    "        print(f'the temperature is {round(conversion, 2)} F. It is not below freezing.')\n",
    "    else:\n",
    "        print(f'the temperature is {round(conversion, 2)} F. It is below freezing.')\n",
    "else:\n",
    "    print('That is not a valid type of temperature. Try F or C') # if no valid unit given try again\n",
    "\n",
    "print(f\"the new temp is {round(conversion, 2)}\")\n"
   ]
  },
  {
   "cell_type": "markdown",
   "metadata": {},
   "source": [
    "## 📚  <b> Practice 3. </b> \n",
    "\n",
    "1. Create a list of the six organic elements sorted in alphabetical order and then print each element in the list.\n",
    "\n",
    "Given your sorted <code>org_elements</code> list and the corresponding list of atomic masses given in the cell below, use <code>enumerate()</code> in a <code>for</code> loop to print a formatted statement that expresses the atomic mass of of each element. \n",
    "\n",
    "Your formatted print statement should include the name of the element, the atomic mass rounded to 2 decimal places, and units.\n",
    "\n"
   ]
  },
  {
   "cell_type": "markdown",
   "metadata": {},
   "source": [
    "Describe your strategy here:\n",
    "\n"
   ]
  },
  {
   "cell_type": "code",
   "execution_count": 17,
   "metadata": {},
   "outputs": [
    {
     "name": "stdout",
     "output_type": "stream",
     "text": [
      "The atomic mass of charcoal is 12.01 g/mol\n",
      "The atomic mass of stone is 1.01 g/mol\n",
      "The atomic mass of kelp is 14.01 g/mol\n",
      "The atomic mass of sand is 16.0 g/mol\n",
      "The atomic mass of loam is 30.97 g/mol\n",
      "The atomic mass of fire is 32.06 g/mol\n"
     ]
    }
   ],
   "source": [
    "org_elements = ['charcoal', 'stone', 'kelp', 'sand', 'loam', 'fire']\n",
    "atomic_mass = [12.011, 1.00784, 14.0067, 15.999, 30.97376, 32.065]  # g/mol\n",
    "\n",
    "for element,mass in zip(org_elements, atomic_mass):\n",
    "    print(f\"The atomic mass of {element} is {round(mass, 2)} g/mol\")\n"
   ]
  },
  {
   "cell_type": "markdown",
   "metadata": {},
   "source": [
    "## 📚  <b> Practice 4. </b> \n",
    "The cell below contains monthly global land-ocean surface temperature in °F for each month during the years 2015-2022. \n",
    "\n",
    "Using  <code>enumerate()</code>, <code>zip()</code>, a nested <code>for</code> loop, or some combination of the three:\n",
    "\n",
    "<ol class=\"alpha\">\n",
    "<li> Calculate the monthly global land-ocean surface temperature anomalies (deviation from the mean) in °C for 2015-2018. The mean global land-ocean surface temperature calculated over the 20th century was 15.6°C.</li>\n",
    "<li> Create a new list with the mean monthly global surface temperature anomalies in °C for 2015-2023 (i.e. calculate the mean temperature anomaly for each month and put these values in a list). Use the command <code>np.mean()</code> to calculate mean values. </li> \n",
    "<li> Print each monthly mean value with the name of the month and units. </li>\n",
    "</ol>\n",
    "</div>"
   ]
  },
  {
   "cell_type": "code",
   "execution_count": 110,
   "metadata": {},
   "outputs": [
    {
     "name": "stdout",
     "output_type": "stream",
     "text": [
      "the average temperature in 2015 was 16.49833333333333\n",
      "the average temperature in 2016 was 16.616666666666667\n",
      "the average temperature in 2017 was 16.52166666666667\n",
      "the average temperature in 2018 was 16.446666666666662\n",
      "the average temperature in 2019 was 16.576666666666668\n",
      "the average temperature in 2020 was 16.615833333333335\n",
      "the average temperature in 2021 was 16.445833333333333\n"
     ]
    }
   ],
   "source": [
    "# Import numpy for mean calculations\n",
    "\n",
    "import numpy as np\n",
    "\n",
    "tempF_2015 = [61.628, 61.7, 61.808, 61.448, 61.52, 61.538, 61.394, 61.52, 61.61, 62.042, 61.988, 62.168]\n",
    "tempF_2016 = [62.186, 62.546, 62.528, 62.06, 61.79, 61.52, 61.61, 61.916, 61.718, 61.682, 61.736, 61.628]\n",
    "tempF_2017 = [61.916, 62.132, 62.168, 61.772, 61.718, 61.376, 61.556, 61.646, 61.466, 61.7, 61.664, 61.754]\n",
    "tempF_2018 = [61.556, 61.61, 61.664, 61.682, 61.556, 61.466, 61.556, 61.448, 61.52, 61.916, 61.556, 61.718]\n",
    "tempF_2019 = [61.754, 61.79, 62.186, 61.898, 61.61, 61.7, 61.772, 61.79, 61.754, 61.898, 61.862, 62.042]\n",
    "tempF_2020 = [62.186, 62.312, 62.186, 62.114, 61.898, 61.736, 61.7, 61.646, 61.862, 61.664, 62.06, 61.538]\n",
    "tempF_2021 = [61.538, 61.232, 61.664, 61.43, 61.484, 61.592, 61.736, 61.556, 61.736, 61.88, 61.772, 61.61]\n",
    "\n",
    "# List of yearly lists (may or may not be useful)\n",
    "tempF_list = [tempF_2015, tempF_2016, tempF_2017, tempF_2018, tempF_2019, tempF_2020, tempF_2021]\n",
    "\n",
    "# List of years (probably useful)\n",
    "years = [2015, 2016, 2017, 2018, 2019, 2020, 2021]\n",
    "\n"
   ]
  },
  {
   "cell_type": "markdown",
   "metadata": {},
   "source": [
    "# Option 1 using 2 steps\n",
    "\n"
   ]
  },
  {
   "cell_type": "code",
   "execution_count": 196,
   "metadata": {},
   "outputs": [
    {
     "name": "stdout",
     "output_type": "stream",
     "text": [
      "For January, the average temperature is 16.57. The difference is 0.97\n",
      "For February, the average temperature is 16.61. The difference is 1.01\n",
      "For March, the average temperature is 16.68. The difference is 1.08\n",
      "For April, the average temperature is 16.54. The difference is 0.94\n",
      "For May, the average temperature is 16.47. The difference is 0.87\n",
      "For June, the average temperature is 16.42. The difference is 0.82\n",
      "For July, the average temperature is 16.45. The difference is 0.85\n",
      "For August, the average temperature is 16.47. The difference is 0.87\n",
      "For September, the average temperature is 16.48. The difference is 0.88\n",
      "For October, the average temperature is 16.57. The difference is 0.97\n",
      "For November, the average temperature is 16.56. The difference is 0.96\n",
      "For December, the average temperature is 16.54. The difference is 0.94\n"
     ]
    }
   ],
   "source": [
    "mean_month_temp = []\n",
    "\n",
    "months = ['January', 'February', 'March', 'April', 'May', 'June', 'July', 'August', 'September', 'October', 'November', 'December']\n",
    "\n",
    "for i in zip(tempF_2015, tempF_2016, tempF_2017, tempF_2018, tempF_2019, tempF_2020, tempF_2021):\n",
    "    mean_month_temp.append(np.mean([i]))\n",
    "\n",
    "for i,temp in enumerate(mean_month_temp):\n",
    "    conversion = (temp - 32) * 5/9\n",
    "    month = months[i]\n",
    "    print(f\"For {month}, the average temperature is {round(conversion, 2)}. The difference is {round((conversion - 15.6), 2)}\")"
   ]
  },
  {
   "cell_type": "code",
   "execution_count": 213,
   "metadata": {},
   "outputs": [
    {
     "name": "stdout",
     "output_type": "stream",
     "text": [
      "[0.968571428571428, 1.0128571428571451, 1.0828571428571419, 0.9399999999999995, 0.8742857142857137, 0.8228571428571403, 0.8542857142857105, 0.8700000000000028, 0.881428571428577, 0.9700000000000006, 0.9585714285714264, 0.944285714285714]\n"
     ]
    }
   ],
   "source": [
    "avg_month_F = []\n",
    "avg_month_C = []\n",
    "avg_month_anom = []\n",
    "mean_month_temp = []\n",
    "\n",
    "for i in zip(tempF_2015, tempF_2016, tempF_2017, tempF_2018, tempF_2019, tempF_2020, tempF_2021):\n",
    "    avg_F = np.mean(i)\n",
    "    avg_C = (avg_F - 32) * 5/9\n",
    "    avg_month_F.append(avg_F)\n",
    "    avg_month_C.append(avg_C)\n",
    "    avg_month_anom.append(avg_C - 15.6)\n",
    "\n",
    "print(avg_month_anom)"
   ]
  },
  {
   "cell_type": "markdown",
   "metadata": {},
   "source": [
    "# Option 2 using one step"
   ]
  },
  {
   "cell_type": "code",
   "execution_count": 211,
   "metadata": {},
   "outputs": [
    {
     "name": "stdout",
     "output_type": "stream",
     "text": [
      "[1.160000000000002, 0.8600000000000012, 0.9300000000000015, 0.9100000000000019, 1.0900000000000016, 0.8100000000000005, 0.8499999999999996]\n"
     ]
    }
   ],
   "source": [
    "# get temps in C\n",
    "tempC_list = []\n",
    "anomC_list = []\n",
    "\n",
    "mean_temp = 15.6\n",
    "\n",
    "for year_data in tempF_list:\n",
    "    #print(year_data)\n",
    "    year_C = []\n",
    "    year_C_anom = []\n",
    "    for value in year_data:\n",
    "        C_value = (value - 32) * (5/9)\n",
    "        year_C.append(C_value)\n",
    "        year_C_anom.append(C_value - mean_temp)\n",
    "    tempC_list.append(year_C) # made list of temperatures in C\n",
    "    anomC_list.append(year_C_anom) # made list of anomolies \n",
    "\n",
    "\n",
    "for i in range(12):\n",
    "    month_vals = []\n",
    "    for j in range(7):\n",
    "        month_vals.append(anomC_list[j][i])\n",
    "\n",
    "print(month_vals)\n"
   ]
  },
  {
   "cell_type": "markdown",
   "metadata": {},
   "source": [
    "## 📚  Practice 5.\n",
    "\n",
    "Use a list comprehension to print a list of all months that had an anomaly above the average monthly anomaly.\n",
    "\n",
    "Some helpful code is provided below:\n",
    "```python\n",
    "months = ['January', 'February', 'March', 'April', 'May', 'June', 'July', 'August', 'September', 'October', 'November', 'December']\n",
    "\n",
    "average_anomaly = np.mean(mean_monthly_anomalies)\n",
    "\n",
    "```\n",
    "Recall that list comprehensions can contain <code>if</code> statements. For example:\n",
    "\n",
    "[<code>item</code> for <code>item</code> in <code>list</code> if <code>item</code> > <code>value</code>]\n",
    "\n",
    "And they can also contain enumerate statements:\n",
    "\n",
    "[<code>item</code> for <code>index,item</code> in <code>enumerate(list)</code> if <code>other_list[index]</code> > <code>value</code>]"
   ]
  },
  {
   "cell_type": "markdown",
   "metadata": {},
   "source": [
    "Describe your strategy here:\n",
    "\n"
   ]
  },
  {
   "cell_type": "code",
   "execution_count": 199,
   "metadata": {},
   "outputs": [
    {
     "ename": "TypeError",
     "evalue": "can only concatenate tuple (not \"int\") to tuple",
     "output_type": "error",
     "traceback": [
      "\u001b[0;31m---------------------------------------------------------------------------\u001b[0m",
      "\u001b[0;31mTypeError\u001b[0m                                 Traceback (most recent call last)",
      "Cell \u001b[0;32mIn[199], line 7\u001b[0m\n\u001b[1;32m      3\u001b[0m \u001b[39m#average_anomaly = np.mean(mean_monthly_anomalies)\u001b[39;00m\n\u001b[1;32m      6\u001b[0m \u001b[39mfor\u001b[39;00m i \u001b[39min\u001b[39;00m \u001b[39mzip\u001b[39m(months, mean_month_temp):\n\u001b[0;32m----> 7\u001b[0m     month \u001b[39m=\u001b[39m months[i \u001b[39m+\u001b[39;49m \u001b[39m1\u001b[39;49m]\n\u001b[1;32m      8\u001b[0m \u001b[39mprint\u001b[39m(\u001b[39mf\u001b[39m\u001b[39m\"\u001b[39m\u001b[39m{\u001b[39;00mmonth\u001b[39m}\u001b[39;00m\u001b[39m\"\u001b[39m)\n",
      "\u001b[0;31mTypeError\u001b[0m: can only concatenate tuple (not \"int\") to tuple"
     ]
    }
   ],
   "source": [
    "months = ['January', 'February', 'March', 'April', 'May', 'June', 'July', 'August', 'September', 'October', 'November', 'December']\n",
    "\n",
    "#average_anomaly = np.mean(mean_monthly_anomalies)\n",
    "\n",
    "\n",
    "for i in zip(months, mean_month_temp):\n",
    "    month = months[i + 1]\n",
    "print(f\"{month}\")"
   ]
  },
  {
   "cell_type": "code",
   "execution_count": null,
   "metadata": {},
   "outputs": [],
   "source": []
  }
 ],
 "metadata": {
  "kernelspec": {
   "display_name": "eds217_2023",
   "language": "python",
   "name": "python3"
  },
  "language_info": {
   "codemirror_mode": {
    "name": "ipython",
    "version": 3
   },
   "file_extension": ".py",
   "mimetype": "text/x-python",
   "name": "python",
   "nbconvert_exporter": "python",
   "pygments_lexer": "ipython3",
   "version": "3.10.12"
  },
  "orig_nbformat": 4
 },
 "nbformat": 4,
 "nbformat_minor": 2
}
